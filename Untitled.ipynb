{
 "cells": [
  {
   "cell_type": "code",
   "execution_count": null,
   "metadata": {},
   "outputs": [],
   "source": [
    "def bitLen(int_type):\n",
    "   length = 0\n",
    "   while (int_type):\n",
    "   int_type >>= 1\n",
    "   length += 1\n",
    "   return(length)\n",
    "\n",
    "Print(bitLen())\n",
    "\n"
   ]
  },
  {
   "cell_type": "code",
   "execution_count": 10,
   "metadata": {},
   "outputs": [],
   "source": [
    "import numpy as np\n",
    "def CountBit(x1):\n",
    "    l1=bin((2**32)-1)\n",
    "    #l2=str(l1)[2:]\n",
    "    counter=0\n",
    "    #x2=str(bin(x1))[2:]\n",
    "    l3=bin(x1 ^ l1)\n",
    "#for i in np.arange(0,32):\n",
    " #   print(i)"
   ]
  },
  {
   "cell_type": "code",
   "execution_count": 14,
   "metadata": {},
   "outputs": [
    {
     "ename": "TypeError",
     "evalue": "'str' object cannot be interpreted as an integer",
     "output_type": "error",
     "traceback": [
      "\u001b[1;31m---------------------------------------------------------------------------\u001b[0m",
      "\u001b[1;31mTypeError\u001b[0m                                 Traceback (most recent call last)",
      "\u001b[1;32m<ipython-input-14-33d31cd3c8a2>\u001b[0m in \u001b[0;36m<module>\u001b[1;34m\u001b[0m\n\u001b[0;32m      7\u001b[0m             \u001b[0mcounter\u001b[0m\u001b[1;33m+=\u001b[0m\u001b[1;36m1\u001b[0m\u001b[1;33m\u001b[0m\u001b[1;33m\u001b[0m\u001b[0m\n\u001b[0;32m      8\u001b[0m     \u001b[1;32mreturn\u001b[0m \u001b[0mcounter\u001b[0m\u001b[1;33m\u001b[0m\u001b[1;33m\u001b[0m\u001b[0m\n\u001b[1;32m----> 9\u001b[1;33m \u001b[0mprint\u001b[0m\u001b[1;33m(\u001b[0m\u001b[0mCountBit\u001b[0m\u001b[1;33m(\u001b[0m\u001b[0ml1\u001b[0m\u001b[1;33m)\u001b[0m\u001b[1;33m)\u001b[0m\u001b[1;33m\u001b[0m\u001b[1;33m\u001b[0m\u001b[0m\n\u001b[0m",
      "\u001b[1;32m<ipython-input-14-33d31cd3c8a2>\u001b[0m in \u001b[0;36mCountBit\u001b[1;34m(x1)\u001b[0m\n\u001b[0;32m      2\u001b[0m \u001b[1;32mdef\u001b[0m \u001b[0mCountBit\u001b[0m\u001b[1;33m(\u001b[0m\u001b[0mx1\u001b[0m\u001b[1;33m)\u001b[0m\u001b[1;33m:\u001b[0m\u001b[1;33m\u001b[0m\u001b[1;33m\u001b[0m\u001b[0m\n\u001b[0;32m      3\u001b[0m     \u001b[0mcounter\u001b[0m\u001b[1;33m=\u001b[0m\u001b[1;36m0\u001b[0m\u001b[1;33m\u001b[0m\u001b[1;33m\u001b[0m\u001b[0m\n\u001b[1;32m----> 4\u001b[1;33m     \u001b[0mx2\u001b[0m\u001b[1;33m=\u001b[0m\u001b[0mstr\u001b[0m\u001b[1;33m(\u001b[0m\u001b[0mbin\u001b[0m\u001b[1;33m(\u001b[0m\u001b[0mx1\u001b[0m\u001b[1;33m)\u001b[0m\u001b[1;33m)\u001b[0m\u001b[1;33m[\u001b[0m\u001b[1;36m2\u001b[0m\u001b[1;33m:\u001b[0m\u001b[1;33m]\u001b[0m\u001b[1;33m\u001b[0m\u001b[1;33m\u001b[0m\u001b[0m\n\u001b[0m\u001b[0;32m      5\u001b[0m     \u001b[1;32mfor\u001b[0m \u001b[0mi\u001b[0m \u001b[1;32min\u001b[0m \u001b[0mnp\u001b[0m\u001b[1;33m.\u001b[0m\u001b[0marange\u001b[0m\u001b[1;33m(\u001b[0m\u001b[1;36m0\u001b[0m\u001b[1;33m,\u001b[0m\u001b[1;36m32\u001b[0m\u001b[1;33m)\u001b[0m\u001b[1;33m:\u001b[0m\u001b[1;33m\u001b[0m\u001b[1;33m\u001b[0m\u001b[0m\n\u001b[0;32m      6\u001b[0m         \u001b[1;32mif\u001b[0m \u001b[0mx2\u001b[0m\u001b[1;33m[\u001b[0m\u001b[0mi\u001b[0m\u001b[1;33m]\u001b[0m\u001b[1;33m==\u001b[0m\u001b[1;34m'1'\u001b[0m\u001b[1;33m:\u001b[0m\u001b[1;33m\u001b[0m\u001b[1;33m\u001b[0m\u001b[0m\n",
      "\u001b[1;31mTypeError\u001b[0m: 'str' object cannot be interpreted as an integer"
     ]
    }
   ],
   "source": [
    "l1=bin((2**32)-1)\n",
    "def CountBit(x1):\n",
    "    counter=0\n",
    "    x2=str(bin(x1))[2:]\n",
    "    for i in np.arange(0,32):\n",
    "        if x2[i]=='1':\n",
    "            counter+=1\n",
    "    return counter\n",
    "print(CountBit(l1))"
   ]
  },
  {
   "cell_type": "code",
   "execution_count": 19,
   "metadata": {},
   "outputs": [
    {
     "name": "stdout",
     "output_type": "stream",
     "text": [
      "0b1111111111111111111111111111111\n",
      "0b111111111111111111111111111111\n",
      "0b11111111111111111111111111111\n",
      "0b1111111111111111111111111111\n",
      "0b111111111111111111111111111\n",
      "0b11111111111111111111111111\n",
      "0b1111111111111111111111111\n",
      "0b111111111111111111111111\n",
      "0b11111111111111111111111\n",
      "0b1111111111111111111111\n",
      "0b111111111111111111111\n",
      "0b11111111111111111111\n",
      "0b1111111111111111111\n",
      "0b111111111111111111\n",
      "0b11111111111111111\n",
      "0b1111111111111111\n",
      "0b111111111111111\n",
      "0b11111111111111\n",
      "0b1111111111111\n",
      "0b111111111111\n",
      "0b11111111111\n",
      "0b1111111111\n",
      "0b111111111\n",
      "0b11111111\n",
      "0b1111111\n",
      "0b111111\n",
      "0b11111\n",
      "0b1111\n",
      "0b111\n",
      "0b11\n",
      "0b1\n",
      "0b0\n",
      "(32, 32)\n"
     ]
    }
   ],
   "source": [
    "def bitLenCount(int_type):\n",
    "        length = 0\n",
    "        count = 0\n",
    "        while (int_type):\n",
    "            count += (int_type & 1)\n",
    "            length += 1\n",
    "            int_type >>= 1\n",
    "            print(bin(int_type))\n",
    "        return(length, count)\n",
    "print(bitLenCount((2**32)-1))"
   ]
  },
  {
   "cell_type": "code",
   "execution_count": 26,
   "metadata": {},
   "outputs": [
    {
     "name": "stdout",
     "output_type": "stream",
     "text": [
      "<bound method Random.choice of <random.Random object at 0x0000000002C41378>>\n"
     ]
    }
   ],
   "source": [
    "import random\n",
    "q=random.choice"
   ]
  },
  {
   "cell_type": "code",
   "execution_count": null,
   "metadata": {},
   "outputs": [],
   "source": []
  },
  {
   "cell_type": "code",
   "execution_count": null,
   "metadata": {},
   "outputs": [],
   "source": []
  }
 ],
 "metadata": {
  "kernelspec": {
   "display_name": "Python 3",
   "language": "python",
   "name": "python3"
  },
  "language_info": {
   "codemirror_mode": {
    "name": "ipython",
    "version": 3
   },
   "file_extension": ".py",
   "mimetype": "text/x-python",
   "name": "python",
   "nbconvert_exporter": "python",
   "pygments_lexer": "ipython3",
   "version": "3.7.1"
  }
 },
 "nbformat": 4,
 "nbformat_minor": 2
}
